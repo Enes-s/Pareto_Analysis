{
 "cells": [
  {
   "cell_type": "code",
   "execution_count": 1,
   "id": "3a8b9dd3",
   "metadata": {},
   "outputs": [],
   "source": [
    "import pandas as pd\n",
    "pd.set_option('display.max_columns', None)\n",
    "pd.set_option('display.max_rows', None)\n",
    "pd.set_option('display.float_format', lambda x: '%.2f' % x)\n",
    "pd.set_option('display.width', 500)"
   ]
  },
  {
   "cell_type": "code",
   "execution_count": 2,
   "id": "efa62671",
   "metadata": {},
   "outputs": [],
   "source": [
    "df_ = pd.read_excel(\"online_retail_II.xlsx\",  sheet_name=\"Year 2009-2010\")"
   ]
  },
  {
   "cell_type": "code",
   "execution_count": 20,
   "id": "2604469a",
   "metadata": {},
   "outputs": [],
   "source": [
    "df = df_.copy()"
   ]
  },
  {
   "cell_type": "code",
   "execution_count": 21,
   "id": "18943775",
   "metadata": {},
   "outputs": [],
   "source": [
    "def datareview(dataframe):\n",
    "    print(\"******head******\")\n",
    "    print(dataframe.head(10))\n",
    "    print(\"******shape******\")\n",
    "    print(dataframe.shape)\n",
    "    print(\"******info********\")\n",
    "    print(dataframe.info())\n",
    "    print(\"******describe********\")\n",
    "    print(dataframe.describe().T)\n",
    "    print(\"***** Nan data********\")\n",
    "    print(dataframe.isnull().sum())"
   ]
  },
  {
   "cell_type": "code",
   "execution_count": 22,
   "id": "3f99763b",
   "metadata": {
    "scrolled": true
   },
   "outputs": [
    {
     "name": "stdout",
     "output_type": "stream",
     "text": [
      "******head******\n",
      "  Invoice StockCode                          Description  Quantity         InvoiceDate  Price  Customer ID         Country\n",
      "0  489434     85048  15CM CHRISTMAS GLASS BALL 20 LIGHTS        12 2009-12-01 07:45:00   6.95     13085.00  United Kingdom\n",
      "1  489434    79323P                   PINK CHERRY LIGHTS        12 2009-12-01 07:45:00   6.75     13085.00  United Kingdom\n",
      "2  489434    79323W                  WHITE CHERRY LIGHTS        12 2009-12-01 07:45:00   6.75     13085.00  United Kingdom\n",
      "3  489434     22041         RECORD FRAME 7\" SINGLE SIZE         48 2009-12-01 07:45:00   2.10     13085.00  United Kingdom\n",
      "4  489434     21232       STRAWBERRY CERAMIC TRINKET BOX        24 2009-12-01 07:45:00   1.25     13085.00  United Kingdom\n",
      "5  489434     22064           PINK DOUGHNUT TRINKET POT         24 2009-12-01 07:45:00   1.65     13085.00  United Kingdom\n",
      "6  489434     21871                  SAVE THE PLANET MUG        24 2009-12-01 07:45:00   1.25     13085.00  United Kingdom\n",
      "7  489434     21523   FANCY FONT HOME SWEET HOME DOORMAT        10 2009-12-01 07:45:00   5.95     13085.00  United Kingdom\n",
      "8  489435     22350                            CAT BOWL         12 2009-12-01 07:46:00   2.55     13085.00  United Kingdom\n",
      "9  489435     22349       DOG BOWL , CHASING BALL DESIGN        12 2009-12-01 07:46:00   3.75     13085.00  United Kingdom\n",
      "******shape******\n",
      "(525461, 8)\n",
      "******info********\n",
      "<class 'pandas.core.frame.DataFrame'>\n",
      "RangeIndex: 525461 entries, 0 to 525460\n",
      "Data columns (total 8 columns):\n",
      " #   Column       Non-Null Count   Dtype         \n",
      "---  ------       --------------   -----         \n",
      " 0   Invoice      525461 non-null  object        \n",
      " 1   StockCode    525461 non-null  object        \n",
      " 2   Description  522533 non-null  object        \n",
      " 3   Quantity     525461 non-null  int64         \n",
      " 4   InvoiceDate  525461 non-null  datetime64[ns]\n",
      " 5   Price        525461 non-null  float64       \n",
      " 6   Customer ID  417534 non-null  float64       \n",
      " 7   Country      525461 non-null  object        \n",
      "dtypes: datetime64[ns](1), float64(2), int64(1), object(4)\n",
      "memory usage: 32.1+ MB\n",
      "None\n",
      "******describe********\n",
      "                count     mean     std       min      25%      50%      75%      max\n",
      "Quantity    525461.00    10.34  107.42  -9600.00     1.00     3.00    10.00 19152.00\n",
      "Price       525461.00     4.69  146.13 -53594.36     1.25     2.10     4.21 25111.09\n",
      "Customer ID 417534.00 15360.65 1680.81  12346.00 13983.00 15311.00 16799.00 18287.00\n",
      "***** Nan data********\n",
      "Invoice             0\n",
      "StockCode           0\n",
      "Description      2928\n",
      "Quantity            0\n",
      "InvoiceDate         0\n",
      "Price               0\n",
      "Customer ID    107927\n",
      "Country             0\n",
      "dtype: int64\n"
     ]
    }
   ],
   "source": [
    "datareview(df)"
   ]
  },
  {
   "cell_type": "code",
   "execution_count": 23,
   "id": "00bf608e",
   "metadata": {},
   "outputs": [],
   "source": [
    "df.dropna(inplace=True)"
   ]
  },
  {
   "cell_type": "code",
   "execution_count": 24,
   "id": "cec7d3ed",
   "metadata": {},
   "outputs": [],
   "source": [
    "df = df[~df[\"Invoice\"].str.contains(\"C\", na=False)]\n",
    "df = df[df[\"Price\"] > 0]\n",
    "df = df[df[\"Quantity\"] > 0]\n",
    "df[\"TotalPrice\"] = df[\"Quantity\"] * df[\"Price\"]"
   ]
  },
  {
   "cell_type": "code",
   "execution_count": 25,
   "id": "60010a80",
   "metadata": {},
   "outputs": [],
   "source": [
    "def outlier_thresholds(dataframe, variable):\n",
    "    quartile1 = dataframe[variable].quantile(0.20)\n",
    "    quartile3 = dataframe[variable].quantile(0.80)\n",
    "    interquantile_range = quartile3 - quartile1\n",
    "    up_limit = round(quartile3 + 1.5 * interquantile_range)\n",
    "    low_limit = round(quartile1 - 1.5 * interquantile_range)\n",
    "    return low_limit, up_limit\n",
    "\n",
    "\n",
    "def replace_with_thresholds(dataframe, variable):\n",
    "    low_limit, up_limit = outlier_thresholds(dataframe, variable)\n",
    "    #dataframe.loc[(dataframe[variable] < low_limit), variable] = low_limit\n",
    "    dataframe.loc[(dataframe[variable] > up_limit), variable] = up_limit"
   ]
  },
  {
   "cell_type": "code",
   "execution_count": 26,
   "id": "52df846f",
   "metadata": {},
   "outputs": [],
   "source": [
    "replace_with_thresholds(df, \"Quantity\")\n",
    "replace_with_thresholds(df, \"Price\")"
   ]
  },
  {
   "cell_type": "code",
   "execution_count": 27,
   "id": "c9f45426",
   "metadata": {},
   "outputs": [
    {
     "data": {
      "text/html": [
       "<div>\n",
       "<style scoped>\n",
       "    .dataframe tbody tr th:only-of-type {\n",
       "        vertical-align: middle;\n",
       "    }\n",
       "\n",
       "    .dataframe tbody tr th {\n",
       "        vertical-align: top;\n",
       "    }\n",
       "\n",
       "    .dataframe thead th {\n",
       "        text-align: right;\n",
       "    }\n",
       "</style>\n",
       "<table border=\"1\" class=\"dataframe\">\n",
       "  <thead>\n",
       "    <tr style=\"text-align: right;\">\n",
       "      <th></th>\n",
       "      <th>count</th>\n",
       "      <th>mean</th>\n",
       "      <th>std</th>\n",
       "      <th>min</th>\n",
       "      <th>25%</th>\n",
       "      <th>50%</th>\n",
       "      <th>75%</th>\n",
       "      <th>max</th>\n",
       "    </tr>\n",
       "  </thead>\n",
       "  <tbody>\n",
       "    <tr>\n",
       "      <th>Quantity</th>\n",
       "      <td>407664.00</td>\n",
       "      <td>8.05</td>\n",
       "      <td>8.03</td>\n",
       "      <td>1.00</td>\n",
       "      <td>2.00</td>\n",
       "      <td>5.00</td>\n",
       "      <td>12.00</td>\n",
       "      <td>27.00</td>\n",
       "    </tr>\n",
       "    <tr>\n",
       "      <th>Price</th>\n",
       "      <td>407664.00</td>\n",
       "      <td>2.80</td>\n",
       "      <td>2.35</td>\n",
       "      <td>0.00</td>\n",
       "      <td>1.25</td>\n",
       "      <td>1.95</td>\n",
       "      <td>3.75</td>\n",
       "      <td>9.00</td>\n",
       "    </tr>\n",
       "    <tr>\n",
       "      <th>Customer ID</th>\n",
       "      <td>407664.00</td>\n",
       "      <td>15368.59</td>\n",
       "      <td>1679.76</td>\n",
       "      <td>12346.00</td>\n",
       "      <td>13997.00</td>\n",
       "      <td>15321.00</td>\n",
       "      <td>16812.00</td>\n",
       "      <td>18287.00</td>\n",
       "    </tr>\n",
       "    <tr>\n",
       "      <th>TotalPrice</th>\n",
       "      <td>407664.00</td>\n",
       "      <td>21.66</td>\n",
       "      <td>77.15</td>\n",
       "      <td>0.00</td>\n",
       "      <td>4.95</td>\n",
       "      <td>11.90</td>\n",
       "      <td>19.50</td>\n",
       "      <td>15818.40</td>\n",
       "    </tr>\n",
       "  </tbody>\n",
       "</table>\n",
       "</div>"
      ],
      "text/plain": [
       "                count     mean     std      min      25%      50%      75%      max\n",
       "Quantity    407664.00     8.05    8.03     1.00     2.00     5.00    12.00    27.00\n",
       "Price       407664.00     2.80    2.35     0.00     1.25     1.95     3.75     9.00\n",
       "Customer ID 407664.00 15368.59 1679.76 12346.00 13997.00 15321.00 16812.00 18287.00\n",
       "TotalPrice  407664.00    21.66   77.15     0.00     4.95    11.90    19.50 15818.40"
      ]
     },
     "execution_count": 27,
     "metadata": {},
     "output_type": "execute_result"
    }
   ],
   "source": [
    "df.describe().T"
   ]
  },
  {
   "cell_type": "code",
   "execution_count": 28,
   "id": "d9f41723",
   "metadata": {},
   "outputs": [],
   "source": [
    "dataframe = df.copy()"
   ]
  },
  {
   "cell_type": "code",
   "execution_count": 29,
   "id": "0c578373",
   "metadata": {},
   "outputs": [],
   "source": [
    "dataframe = df.groupby(\"Customer ID\").agg({'TotalPrice':\"sum\"})"
   ]
  },
  {
   "cell_type": "code",
   "execution_count": 34,
   "id": "3019badf",
   "metadata": {},
   "outputs": [
    {
     "data": {
      "text/html": [
       "<div>\n",
       "<style scoped>\n",
       "    .dataframe tbody tr th:only-of-type {\n",
       "        vertical-align: middle;\n",
       "    }\n",
       "\n",
       "    .dataframe tbody tr th {\n",
       "        vertical-align: top;\n",
       "    }\n",
       "\n",
       "    .dataframe thead th {\n",
       "        text-align: right;\n",
       "    }\n",
       "</style>\n",
       "<table border=\"1\" class=\"dataframe\">\n",
       "  <thead>\n",
       "    <tr style=\"text-align: right;\">\n",
       "      <th></th>\n",
       "      <th>TotalPrice</th>\n",
       "    </tr>\n",
       "    <tr>\n",
       "      <th>Customer ID</th>\n",
       "      <th></th>\n",
       "    </tr>\n",
       "  </thead>\n",
       "  <tbody>\n",
       "    <tr>\n",
       "      <th>18102.00</th>\n",
       "      <td>349164.35</td>\n",
       "    </tr>\n",
       "    <tr>\n",
       "      <th>14646.00</th>\n",
       "      <td>248396.50</td>\n",
       "    </tr>\n",
       "    <tr>\n",
       "      <th>14156.00</th>\n",
       "      <td>196566.74</td>\n",
       "    </tr>\n",
       "    <tr>\n",
       "      <th>14911.00</th>\n",
       "      <td>152147.57</td>\n",
       "    </tr>\n",
       "    <tr>\n",
       "      <th>13694.00</th>\n",
       "      <td>131443.19</td>\n",
       "    </tr>\n",
       "  </tbody>\n",
       "</table>\n",
       "</div>"
      ],
      "text/plain": [
       "             TotalPrice\n",
       "Customer ID            \n",
       "18102.00      349164.35\n",
       "14646.00      248396.50\n",
       "14156.00      196566.74\n",
       "14911.00      152147.57\n",
       "13694.00      131443.19"
      ]
     },
     "execution_count": 34,
     "metadata": {},
     "output_type": "execute_result"
    }
   ],
   "source": [
    "dataframe.head()"
   ]
  },
  {
   "cell_type": "code",
   "execution_count": 35,
   "id": "b6ddd69a",
   "metadata": {},
   "outputs": [],
   "source": [
    "dataframe = dataframe.sort_values('TotalPrice', ascending=False)"
   ]
  },
  {
   "cell_type": "code",
   "execution_count": 36,
   "id": "4a8a8840",
   "metadata": {},
   "outputs": [
    {
     "data": {
      "text/html": [
       "<div>\n",
       "<style scoped>\n",
       "    .dataframe tbody tr th:only-of-type {\n",
       "        vertical-align: middle;\n",
       "    }\n",
       "\n",
       "    .dataframe tbody tr th {\n",
       "        vertical-align: top;\n",
       "    }\n",
       "\n",
       "    .dataframe thead th {\n",
       "        text-align: right;\n",
       "    }\n",
       "</style>\n",
       "<table border=\"1\" class=\"dataframe\">\n",
       "  <thead>\n",
       "    <tr style=\"text-align: right;\">\n",
       "      <th></th>\n",
       "      <th>TotalPrice</th>\n",
       "    </tr>\n",
       "    <tr>\n",
       "      <th>Customer ID</th>\n",
       "      <th></th>\n",
       "    </tr>\n",
       "  </thead>\n",
       "  <tbody>\n",
       "    <tr>\n",
       "      <th>18102.00</th>\n",
       "      <td>349164.35</td>\n",
       "    </tr>\n",
       "    <tr>\n",
       "      <th>14646.00</th>\n",
       "      <td>248396.50</td>\n",
       "    </tr>\n",
       "    <tr>\n",
       "      <th>14156.00</th>\n",
       "      <td>196566.74</td>\n",
       "    </tr>\n",
       "    <tr>\n",
       "      <th>14911.00</th>\n",
       "      <td>152147.57</td>\n",
       "    </tr>\n",
       "    <tr>\n",
       "      <th>13694.00</th>\n",
       "      <td>131443.19</td>\n",
       "    </tr>\n",
       "  </tbody>\n",
       "</table>\n",
       "</div>"
      ],
      "text/plain": [
       "             TotalPrice\n",
       "Customer ID            \n",
       "18102.00      349164.35\n",
       "14646.00      248396.50\n",
       "14156.00      196566.74\n",
       "14911.00      152147.57\n",
       "13694.00      131443.19"
      ]
     },
     "execution_count": 36,
     "metadata": {},
     "output_type": "execute_result"
    }
   ],
   "source": [
    "dataframe.head()"
   ]
  },
  {
   "cell_type": "code",
   "execution_count": 37,
   "id": "174ff17f",
   "metadata": {},
   "outputs": [],
   "source": [
    "dataframe.reset_index(inplace=True)"
   ]
  },
  {
   "cell_type": "code",
   "execution_count": 39,
   "id": "23fcdd06",
   "metadata": {},
   "outputs": [
    {
     "data": {
      "text/html": [
       "<div>\n",
       "<style scoped>\n",
       "    .dataframe tbody tr th:only-of-type {\n",
       "        vertical-align: middle;\n",
       "    }\n",
       "\n",
       "    .dataframe tbody tr th {\n",
       "        vertical-align: top;\n",
       "    }\n",
       "\n",
       "    .dataframe thead th {\n",
       "        text-align: right;\n",
       "    }\n",
       "</style>\n",
       "<table border=\"1\" class=\"dataframe\">\n",
       "  <thead>\n",
       "    <tr style=\"text-align: right;\">\n",
       "      <th></th>\n",
       "      <th>Customer ID</th>\n",
       "      <th>TotalPrice</th>\n",
       "    </tr>\n",
       "  </thead>\n",
       "  <tbody>\n",
       "    <tr>\n",
       "      <th>0</th>\n",
       "      <td>18102.00</td>\n",
       "      <td>349164.35</td>\n",
       "    </tr>\n",
       "    <tr>\n",
       "      <th>1</th>\n",
       "      <td>14646.00</td>\n",
       "      <td>248396.50</td>\n",
       "    </tr>\n",
       "    <tr>\n",
       "      <th>2</th>\n",
       "      <td>14156.00</td>\n",
       "      <td>196566.74</td>\n",
       "    </tr>\n",
       "    <tr>\n",
       "      <th>3</th>\n",
       "      <td>14911.00</td>\n",
       "      <td>152147.57</td>\n",
       "    </tr>\n",
       "    <tr>\n",
       "      <th>4</th>\n",
       "      <td>13694.00</td>\n",
       "      <td>131443.19</td>\n",
       "    </tr>\n",
       "  </tbody>\n",
       "</table>\n",
       "</div>"
      ],
      "text/plain": [
       "   Customer ID  TotalPrice\n",
       "0     18102.00   349164.35\n",
       "1     14646.00   248396.50\n",
       "2     14156.00   196566.74\n",
       "3     14911.00   152147.57\n",
       "4     13694.00   131443.19"
      ]
     },
     "execution_count": 39,
     "metadata": {},
     "output_type": "execute_result"
    }
   ],
   "source": [
    "dataframe.head()"
   ]
  },
  {
   "cell_type": "code",
   "execution_count": 42,
   "id": "62e7db71",
   "metadata": {},
   "outputs": [],
   "source": [
    "dataframe['CumSum'] = dataframe['TotalPrice'].cumsum()"
   ]
  },
  {
   "cell_type": "code",
   "execution_count": 43,
   "id": "20e12c3b",
   "metadata": {},
   "outputs": [
    {
     "data": {
      "text/html": [
       "<div>\n",
       "<style scoped>\n",
       "    .dataframe tbody tr th:only-of-type {\n",
       "        vertical-align: middle;\n",
       "    }\n",
       "\n",
       "    .dataframe tbody tr th {\n",
       "        vertical-align: top;\n",
       "    }\n",
       "\n",
       "    .dataframe thead th {\n",
       "        text-align: right;\n",
       "    }\n",
       "</style>\n",
       "<table border=\"1\" class=\"dataframe\">\n",
       "  <thead>\n",
       "    <tr style=\"text-align: right;\">\n",
       "      <th></th>\n",
       "      <th>Customer ID</th>\n",
       "      <th>TotalPrice</th>\n",
       "      <th>CumSum</th>\n",
       "    </tr>\n",
       "  </thead>\n",
       "  <tbody>\n",
       "    <tr>\n",
       "      <th>0</th>\n",
       "      <td>18102.00</td>\n",
       "      <td>349164.35</td>\n",
       "      <td>349164.35</td>\n",
       "    </tr>\n",
       "    <tr>\n",
       "      <th>1</th>\n",
       "      <td>14646.00</td>\n",
       "      <td>248396.50</td>\n",
       "      <td>597560.85</td>\n",
       "    </tr>\n",
       "    <tr>\n",
       "      <th>2</th>\n",
       "      <td>14156.00</td>\n",
       "      <td>196566.74</td>\n",
       "      <td>794127.59</td>\n",
       "    </tr>\n",
       "    <tr>\n",
       "      <th>3</th>\n",
       "      <td>14911.00</td>\n",
       "      <td>152147.57</td>\n",
       "      <td>946275.16</td>\n",
       "    </tr>\n",
       "    <tr>\n",
       "      <th>4</th>\n",
       "      <td>13694.00</td>\n",
       "      <td>131443.19</td>\n",
       "      <td>1077718.35</td>\n",
       "    </tr>\n",
       "  </tbody>\n",
       "</table>\n",
       "</div>"
      ],
      "text/plain": [
       "   Customer ID  TotalPrice     CumSum\n",
       "0     18102.00   349164.35  349164.35\n",
       "1     14646.00   248396.50  597560.85\n",
       "2     14156.00   196566.74  794127.59\n",
       "3     14911.00   152147.57  946275.16\n",
       "4     13694.00   131443.19 1077718.35"
      ]
     },
     "execution_count": 43,
     "metadata": {},
     "output_type": "execute_result"
    }
   ],
   "source": [
    "dataframe.head()"
   ]
  },
  {
   "cell_type": "code",
   "execution_count": 44,
   "id": "0b36b048",
   "metadata": {},
   "outputs": [],
   "source": [
    "threshold = dataframe['TotalPrice'].sum() * 0.8"
   ]
  },
  {
   "cell_type": "code",
   "execution_count": 45,
   "id": "597bc426",
   "metadata": {},
   "outputs": [
    {
     "data": {
      "text/plain": [
       "7065602.619199999"
      ]
     },
     "execution_count": 45,
     "metadata": {},
     "output_type": "execute_result"
    }
   ],
   "source": [
    "threshold"
   ]
  },
  {
   "cell_type": "code",
   "execution_count": 46,
   "id": "2a50fce5",
   "metadata": {},
   "outputs": [],
   "source": [
    "target_df = dataframe[dataframe['CumSum'] <= threshold]"
   ]
  },
  {
   "cell_type": "code",
   "execution_count": 48,
   "id": "4531bdf2",
   "metadata": {
    "scrolled": true
   },
   "outputs": [
    {
     "data": {
      "text/html": [
       "<div>\n",
       "<style scoped>\n",
       "    .dataframe tbody tr th:only-of-type {\n",
       "        vertical-align: middle;\n",
       "    }\n",
       "\n",
       "    .dataframe tbody tr th {\n",
       "        vertical-align: top;\n",
       "    }\n",
       "\n",
       "    .dataframe thead th {\n",
       "        text-align: right;\n",
       "    }\n",
       "</style>\n",
       "<table border=\"1\" class=\"dataframe\">\n",
       "  <thead>\n",
       "    <tr style=\"text-align: right;\">\n",
       "      <th></th>\n",
       "      <th>Customer ID</th>\n",
       "      <th>TotalPrice</th>\n",
       "      <th>CumSum</th>\n",
       "    </tr>\n",
       "  </thead>\n",
       "  <tbody>\n",
       "    <tr>\n",
       "      <th>0</th>\n",
       "      <td>18102.00</td>\n",
       "      <td>349164.35</td>\n",
       "      <td>349164.35</td>\n",
       "    </tr>\n",
       "    <tr>\n",
       "      <th>1</th>\n",
       "      <td>14646.00</td>\n",
       "      <td>248396.50</td>\n",
       "      <td>597560.85</td>\n",
       "    </tr>\n",
       "    <tr>\n",
       "      <th>2</th>\n",
       "      <td>14156.00</td>\n",
       "      <td>196566.74</td>\n",
       "      <td>794127.59</td>\n",
       "    </tr>\n",
       "    <tr>\n",
       "      <th>3</th>\n",
       "      <td>14911.00</td>\n",
       "      <td>152147.57</td>\n",
       "      <td>946275.16</td>\n",
       "    </tr>\n",
       "    <tr>\n",
       "      <th>4</th>\n",
       "      <td>13694.00</td>\n",
       "      <td>131443.19</td>\n",
       "      <td>1077718.35</td>\n",
       "    </tr>\n",
       "  </tbody>\n",
       "</table>\n",
       "</div>"
      ],
      "text/plain": [
       "   Customer ID  TotalPrice     CumSum\n",
       "0     18102.00   349164.35  349164.35\n",
       "1     14646.00   248396.50  597560.85\n",
       "2     14156.00   196566.74  794127.59\n",
       "3     14911.00   152147.57  946275.16\n",
       "4     13694.00   131443.19 1077718.35"
      ]
     },
     "execution_count": 48,
     "metadata": {},
     "output_type": "execute_result"
    }
   ],
   "source": [
    "target_df.head()"
   ]
  },
  {
   "cell_type": "code",
   "execution_count": 49,
   "id": "3072697d",
   "metadata": {},
   "outputs": [
    {
     "data": {
      "text/plain": [
       "(1175, 3)"
      ]
     },
     "execution_count": 49,
     "metadata": {},
     "output_type": "execute_result"
    }
   ],
   "source": [
    "target_df.shape"
   ]
  },
  {
   "cell_type": "code",
   "execution_count": 50,
   "id": "21a61b37",
   "metadata": {},
   "outputs": [
    {
     "data": {
      "text/plain": [
       "0.27"
      ]
     },
     "execution_count": 50,
     "metadata": {},
     "output_type": "execute_result"
    }
   ],
   "source": [
    "round(target_df.shape[0] / dataframe.shape[0],2)"
   ]
  },
  {
   "cell_type": "code",
   "execution_count": 51,
   "id": "78f0d605",
   "metadata": {},
   "outputs": [],
   "source": [
    "def pareto_analysis(dataframe, id_, price_col, percentile=0.8):\n",
    "    dataframe = dataframe.groupby(id_).agg({price_col: \"sum\"})\n",
    "    dataframe = dataframe.sort_values(price_col, ascending=False)\n",
    "    dataframe.reset_index(inplace=True)\n",
    "    dataframe['CumSum'] = dataframe[price_col].cumsum()\n",
    "    threshold = dataframe[price_col].sum() * percentile\n",
    "    target_df = dataframe[dataframe['CumSum'] <= threshold]\n",
    "    print(\"Toplam Kazanç:\", dataframe[price_col].sum())\n",
    "    print(f\"Toplam kazancın %{100 * percentile} kısmı\", target_df.shape[0], \"kullanıcıdan gelmekte.\")\n",
    "    print(f\"Toplam kazancın %{100 * percentile} 'ini getiren kullanıcılar, tüm kitlenin % {round((target_df.shape[0] * 100 / dataframe.shape[0]),2)} kesimini oluşturmakta.\")\n",
    "\n"
   ]
  },
  {
   "cell_type": "code",
   "execution_count": 52,
   "id": "0d8c128d",
   "metadata": {},
   "outputs": [
    {
     "name": "stdout",
     "output_type": "stream",
     "text": [
      "Toplam Kazanç: 8832003.273999998\n",
      "Toplam kazancın %75.0 kısmı 927 kullanıcıdan gelmekte.\n",
      "Toplam kazancın %75.0 'ini getiren kullanıcılar, tüm kitlenin % 21.5 kesimini oluşturmakta.\n"
     ]
    }
   ],
   "source": [
    "pareto_analysis(df, \"Customer ID\", 'TotalPrice', percentile=0.75)"
   ]
  },
  {
   "cell_type": "code",
   "execution_count": null,
   "id": "03eeda6c",
   "metadata": {},
   "outputs": [],
   "source": []
  },
  {
   "cell_type": "code",
   "execution_count": null,
   "id": "f1a49a5d",
   "metadata": {},
   "outputs": [],
   "source": []
  },
  {
   "cell_type": "code",
   "execution_count": null,
   "id": "fde60747",
   "metadata": {},
   "outputs": [],
   "source": []
  },
  {
   "cell_type": "code",
   "execution_count": null,
   "id": "4f66ebe6",
   "metadata": {},
   "outputs": [],
   "source": []
  },
  {
   "cell_type": "code",
   "execution_count": null,
   "id": "62917ffc",
   "metadata": {},
   "outputs": [],
   "source": []
  }
 ],
 "metadata": {
  "kernelspec": {
   "display_name": "Python 3",
   "language": "python",
   "name": "python3"
  },
  "language_info": {
   "codemirror_mode": {
    "name": "ipython",
    "version": 3
   },
   "file_extension": ".py",
   "mimetype": "text/x-python",
   "name": "python",
   "nbconvert_exporter": "python",
   "pygments_lexer": "ipython3",
   "version": "3.7.4"
  }
 },
 "nbformat": 4,
 "nbformat_minor": 5
}
